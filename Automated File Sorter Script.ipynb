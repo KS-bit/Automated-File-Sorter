{
 "cells": [
  {
   "cell_type": "code",
   "execution_count": 6,
   "metadata": {},
   "outputs": [],
   "source": [
    "import os,shutil\n",
    "\n",
    "def automatic_file_sorting(path):\n",
    "    path = path+'\\\\'\n",
    "    file_list = os.listdir(path)\n",
    "    new_folder = ['csv files', 'Images files', 'Text files', 'Excel files', 'pdf files','Video files']\n",
    "    for i in new_folder:\n",
    "        if not os.path.exists(path + i):\n",
    "            os.makedirs(path + i)\n",
    "        else:\n",
    "            continue\n",
    "\n",
    "\n",
    "    extension_images = [\".png\", \".jpg\", \".jpeg\", \".gif\", \".bmp\", \".tiff\", \".webp\", \".heic\", \".heifs\", \".avif\", \".svg\", \".ai\", \".eps\", \".pdf\", \".raw\", \".arw\", \".cr2\", \".nef\", \".sr2\"]\n",
    "    extensions_video = [\".mp4\", \".mov\", \".avi\", \".wmv\"]\n",
    "\n",
    "    for file in file_list:\n",
    "        if '.csv' in file and not os.path.exists(path+'csv files\\\\'+file):\n",
    "            shutil.move(path+file, path+'csv files\\\\'+file)\n",
    "        elif '.pdf' in file and not os.path.exists(path+'pdf files\\\\'+file):\n",
    "            shutil.move(path+file, path+'pdf files\\\\'+file)\n",
    "        elif '.xlsx' in file and not os.path.exists(path+'Excel files\\\\'+file):\n",
    "            shutil.move(path+file, path+'Excel files\\\\'+file)\n",
    "        elif any(ext in file for ext in extension_images) and not os.path.exists(path+'Images files\\\\'+file):\n",
    "            shutil.move(path+file, path+'Images files\\\\'+file)\n",
    "        elif any(ext2 in file for ext2 in extensions_video) and not os.path.exists(path+'Video files\\\\'+file):\n",
    "            shutil.move(path+file, path+'Video files\\\\'+file)\n",
    "        elif '.txt' in file and not os.path.exists(path+'Text files\\\\'+file):\n",
    "            shutil.move(path+file, path+'Text files\\\\'+file)\n",
    "        else:\n",
    "            continue\n",
    "\n",
    "\n"
   ]
  },
  {
   "cell_type": "code",
   "execution_count": 7,
   "metadata": {},
   "outputs": [],
   "source": [
    "\n",
    "# path = r'C:\\Users\\kirti\\Downloads'\n",
    "automatic_file_sorting(path)"
   ]
  },
  {
   "cell_type": "code",
   "execution_count": null,
   "metadata": {},
   "outputs": [],
   "source": []
  }
 ],
 "metadata": {
  "kernelspec": {
   "display_name": "Python 3",
   "language": "python",
   "name": "python3"
  },
  "language_info": {
   "codemirror_mode": {
    "name": "ipython",
    "version": 3
   },
   "file_extension": ".py",
   "mimetype": "text/x-python",
   "name": "python",
   "nbconvert_exporter": "python",
   "pygments_lexer": "ipython3",
   "version": "3.12.2"
  }
 },
 "nbformat": 4,
 "nbformat_minor": 2
}
